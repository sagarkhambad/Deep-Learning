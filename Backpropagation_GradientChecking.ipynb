{
  "nbformat": 4,
  "nbformat_minor": 0,
  "metadata": {
    "colab": {
      "name": "Backpropagation_GradientChecking.ipynb",
      "provenance": [],
      "collapsed_sections": []
    },
    "kernelspec": {
      "name": "python3",
      "display_name": "Python 3"
    }
  },
  "cells": [
    {
      "cell_type": "markdown",
      "metadata": {
        "id": "0huUQ0byiI0I"
      },
      "source": [
        "## <font color='red'>Loading data </font>"
      ]
    },
    {
      "cell_type": "code",
      "metadata": {
        "id": "1hSje5CBgcUb",
        "colab": {
          "base_uri": "https://localhost:8080/"
        },
        "outputId": "1e32c639-0995-4d31-ca8d-07d80ed61a5d"
      },
      "source": [
        "import pickle\n",
        "import numpy as np\n",
        "from tqdm import tqdm\n",
        "import matplotlib.pyplot as plt\n",
        "\n",
        "with open('data.pkl', 'rb') as f:\n",
        "    data = pickle.load(f)\n",
        "print(data.shape)\n",
        "X = data[:, :5]\n",
        "y = data[:, -1]\n",
        "print(X.shape, y.shape)"
      ],
      "execution_count": null,
      "outputs": [
        {
          "output_type": "stream",
          "text": [
            "(506, 6)\n",
            "(506, 5) (506,)\n"
          ],
          "name": "stdout"
        }
      ]
    },
    {
      "cell_type": "markdown",
      "metadata": {
        "id": "5JL-0soQistC"
      },
      "source": [
        "# <font color='red'>Computational graph</font>"
      ]
    },
    {
      "cell_type": "markdown",
      "metadata": {
        "id": "nREnTTJ3i0Vd"
      },
      "source": [
        "<img src='https://i.imgur.com/seSGbNS.png'>"
      ]
    },
    {
      "cell_type": "markdown",
      "metadata": {
        "id": "DSPX_H_4i_HT"
      },
      "source": [
        "\n",
        "*  **If you observe the graph, we are having input features [f1, f2, f3, f4, f5] and 9 weights [w1, w2, w3, w4, w5, w6,    w7, w8, w9]**.<br><br>\n",
        "*  **The final output of this graph is a value L which is computed as (Y-Y')^2** "
      ]
    },
    {
      "cell_type": "markdown",
      "metadata": {
        "id": "D54eDEv6jkO4"
      },
      "source": [
        "# <font color='red'>Task 1: Implementing backpropagation and Gradient checking </font>"
      ]
    },
    {
      "cell_type": "markdown",
      "metadata": {
        "id": "STS4NrQQc6OH"
      },
      "source": [
        " ## <font color='red'>Gradient clipping</font>"
      ]
    },
    {
      "cell_type": "markdown",
      "metadata": {
        "id": "XY7ivRNzdPok"
      },
      "source": [
        "<b> Check this  <a href='https://towardsdatascience.com/how-to-debug-a-neural-network-with-gradient-checking-41deec0357a9'>blog link</a> for more details on Gradient clipping"
      ]
    },
    {
      "cell_type": "markdown",
      "metadata": {
        "id": "BrsfpDoidtZ5"
      },
      "source": [
        " we know that the derivative of any function is\n",
        " \n",
        " $$\\lim_{\\epsilon\\to0}\\frac{f(x+\\epsilon)-f(x-\\epsilon)}{2\\epsilon}$$\n"
      ]
    },
    {
      "cell_type": "markdown",
      "metadata": {
        "id": "vUcmt0kPd02f"
      },
      "source": [
        "*  The definition above can be used as a numerical approximation of the derivative. Taking an epsilon small enough, the calculated approximation will have an error in the range of epsilon squared. \n",
        "\n",
        "*  In other words, if epsilon is 0.001, the approximation will be off by 0.00001.\n",
        "\n",
        "Therefore, we can use this to approximate the gradient, and in turn make sure that backpropagation is implemented properly. This forms the basis of <b>gradient checking!</b>"
      ]
    },
    {
      "cell_type": "markdown",
      "metadata": {
        "id": "pFSu16KCeU0x"
      },
      "source": [
        "## <Font color='blue'>Gradient checking example</font>"
      ]
    },
    {
      "cell_type": "markdown",
      "metadata": {
        "id": "Gz0mmT_xecfC"
      },
      "source": [
        "<font >\n",
        "lets understand the concept with a simple example:\n",
        "$f(w1,w2,x1,x2)=w_{1}^{2} . x_{1} + w_{2} . x_{2}$ \n",
        "\n",
        "from the above function , lets assume $w_{1}=1$, $w_{2}=2$, $x_{1}=3$, $x_{2}=4$ the gradient of $f$ w.r.t $w_{1}$ is\n",
        "\n",
        "\\begin{array} {lcl}\n",
        "\\frac{df}{dw_{1}} = dw_{1} &=&2.w_{1}.x_{1} \\\\& = &2.1.3\\\\& = &6\n",
        "\\end{array}\n",
        "\n",
        "\n",
        "let calculate the aproximate gradient of $w_{1}$ as mentinoned in the above formula and considering $\\epsilon=0.0001$\n",
        "\n",
        "\\begin{array} {lcl}\n",
        "dw_1^{approx} & = & \\frac{f(w1+\\epsilon,w2,x1,x2)-f(w1-\\epsilon,w2,x1,x2)}{2\\epsilon} \\\\ & = & \\frac{((1+0.0001)^{2} . 3 + 2 . 4) - ((1-0.0001)^{2} . 3 + 2 . 4)}{2\\epsilon} \\\\ & = & \\frac{(1.00020001 . 3 + 2 . 4) - (0.99980001. 3 + 2 . 4)}{2*0.0001} \\\\ & = & \\frac{(11.00060003) - (10.99940003)}{0.0002}\\\\ & = & 5.99999999999\n",
        "\\end{array}\n",
        "\n",
        "Then, we apply the following formula for gradient check: <i>gradient_check</i> = \n",
        "$\\frac{\\left\\Vert\\left (dW-dW^{approx}\\rm\\right) \\right\\Vert_2}{\\left\\Vert\\left (dW\\rm\\right) \\right\\Vert_2+\\left\\Vert\\left (dW^{approx}\\rm\\right) \\right\\Vert_2}$\n",
        "\n",
        "The equation above is basically the Euclidean distance normalized by the sum of the norm of the vectors. We use normalization in case that one of the vectors is very small.\n",
        "As a value for epsilon, we usually opt for 1e-7. Therefore, if gradient check return a value less than 1e-7, then it means that backpropagation was implemented correctly. Otherwise, there is potentially a mistake in your implementation. If the value exceeds 1e-3, then you are sure that the code is not correct.\n",
        "\n",
        "in our example: <i>gradient_check</i> $ = \\frac{(6 - 5.999999999994898)}{(6 + 5.999999999994898)} = 4.2514140356330737e^{-13}$\n",
        "\n",
        "you can mathamatically derive the same thing like this\n",
        "\n",
        "\\begin{array} {lcl}\n",
        "dw_1^{approx} & = & \\frac{f(w1+\\epsilon,w2,x1,x2)-f(w1-\\epsilon,w2,x1,x2)}{2\\epsilon} \\\\ & = & \\frac{((w_{1}+\\epsilon)^{2} . x_{1} + w_{2} . x_{2}) - ((w_{1}-\\epsilon)^{2} . x_{1} + w_{2} . x_{2})}{2\\epsilon} \\\\ & = & \\frac{4. \\epsilon.w_{1}. x_{1}}{2\\epsilon} \\\\ & = &  2.w_{1}.x_{1}\n",
        "\\end{array}\n"
      ]
    },
    {
      "cell_type": "markdown",
      "metadata": {
        "id": "0ufbFBFfhgL0"
      },
      "source": [
        "# <font color='red'> Task 2 : Optimizers </font>"
      ]
    },
    {
      "cell_type": "markdown",
      "metadata": {
        "id": "7zt05soYh1RM"
      },
      "source": [
        "* As a part of this task, you will be implementing 3 type of optimizers(methods to update weight)\n",
        "* Use the same computational graph that was mentioned above to do this task\n",
        "* Initilze the 9 weights from normal distribution with mean=0 and std=0.01"
      ]
    },
    {
      "cell_type": "markdown",
      "metadata": {
        "id": "_fdmPNqtjm3X"
      },
      "source": [
        "## <font color='red'> Implement below tasks</b>"
      ]
    },
    {
      "cell_type": "markdown",
      "metadata": {
        "id": "Ll9-CRsLjx_D"
      },
      "source": [
        "\n",
        "*  <b>Task 2.1</b>: you will be implementing the above algorithm with <b>Vanilla update</b> of weights<br><br>\n",
        "*  <b>Task 2.2</b>: you will be implementing the above algorithm with <b>Momentum update</b> of weights<br><br>\n",
        "*  <b>Task 2.3</b>: you will be implementing the above algorithm with <b>Adam update</b> of weights\n"
      ]
    },
    {
      "cell_type": "markdown",
      "metadata": {
        "id": "atp082demrUR"
      },
      "source": [
        "**Note : If you get any assertion error while running grader functions, please print the variables in grader functions and check which variable is returning False .Recheck your logic for that variable .**"
      ]
    },
    {
      "cell_type": "markdown",
      "metadata": {
        "id": "phG2WDkjkuIL"
      },
      "source": [
        "<br>\n",
        "<br>\n",
        "<br>"
      ]
    },
    {
      "cell_type": "markdown",
      "metadata": {
        "id": "CBaPzHP63grG"
      },
      "source": [
        "# <font color='red'>Task 1 </font>"
      ]
    },
    {
      "cell_type": "markdown",
      "metadata": {
        "id": "QfmV3FUgSrBo"
      },
      "source": [
        "## <font color='blue'>Forward propagation </font>"
      ]
    },
    {
      "cell_type": "code",
      "metadata": {
        "id": "5_pBivcY30qf"
      },
      "source": [
        "def sigmoid(z):\n",
        "    '''In this function, we will compute the sigmoid(z)'''\n",
        "    # we can use this function in forward and backward propagation\n",
        "\n",
        "    return 1/(1+np.exp(-z))\n",
        "    \n",
        "def forward_propagation(x, y, w):\n",
        "        '''In this function, we will compute the forward propagation '''\n",
        "        # X: input data point, note that in this assignment you are having 5-d data points\n",
        "        # y: output varible\n",
        "        # W: weight array, its of length 9, W[0] corresponds to w1 in graph, W[1] corresponds to w2 in graph,..., W[8] corresponds to w9 in graph.  \n",
        "        # you have to return the following variables\n",
        "        # exp= part1 (compute the forward propagation until exp and then store the values in exp)\n",
        "        # tanh =part2(compute the forward propagation until tanh and then store the values in tanh)\n",
        "        # sig = part3(compute the forward propagation until sigmoid and then store the values in sig)\n",
        "        # now compute remaining values from computional graph and get y'\n",
        "        # write code to compute the value of L=(y-y')^2\n",
        "        # compute derivative of L  w.r.to Y' and store it in dl\n",
        "        # Create a dictionary to store all the intermediate values\n",
        "        # store L, exp,tanh,sig variables\n",
        "        d={}\n",
        "        exp=np.exp(np.square(w[0]*x[0]+w[1]*x[1])+w[5])\n",
        "        tanh=np.tanh(exp+w[6])\n",
        "        sig=sigmoid((np.sin(w[2]*x[2])*(w[3]*x[3]+w[4]*x[4]))+w[7])\n",
        "        yhat=(w[8]*sig)+tanh\n",
        "        L=np.square((y-yhat))\n",
        "        dL=-2*(y-yhat)\n",
        "        d[\"dy_pr\"]=dL\n",
        "        d[\"exp\"]=exp\n",
        "        d[\"tanh\"]=tanh\n",
        "        d[\"sigmoid\"]=sig\n",
        "        d[\"loss\"]=L\n",
        "        d[\"yhat\"]=yhat\n",
        "\n",
        "        return d"
      ],
      "execution_count": null,
      "outputs": []
    },
    {
      "cell_type": "markdown",
      "metadata": {
        "id": "z-z1rGKqCHNN"
      },
      "source": [
        "<font color='cyan'>Grader function - 1</font>"
      ]
    },
    {
      "cell_type": "code",
      "metadata": {
        "id": "6ZxFF00zBmx1",
        "colab": {
          "base_uri": "https://localhost:8080/"
        },
        "outputId": "a108920e-0d2c-42e1-a5db-bab6ebe1bea8"
      },
      "source": [
        "def grader_sigmoid(z):\n",
        "  val=sigmoid(z)\n",
        "  assert(val==0.8807970779778823)\n",
        "  return True\n",
        "grader_sigmoid(2)"
      ],
      "execution_count": null,
      "outputs": [
        {
          "output_type": "execute_result",
          "data": {
            "text/plain": [
              "True"
            ]
          },
          "metadata": {
            "tags": []
          },
          "execution_count": 6
        }
      ]
    },
    {
      "cell_type": "markdown",
      "metadata": {
        "id": "KgAUXq_aChey"
      },
      "source": [
        "<font color='cyan'>Grader function - 2 </font>"
      ]
    },
    {
      "cell_type": "code",
      "metadata": {
        "id": "3uzsUqcjCorN",
        "colab": {
          "base_uri": "https://localhost:8080/"
        },
        "outputId": "b2477373-6a66-496a-a1db-7f783ffd3b5f"
      },
      "source": [
        "def grader_forwardprop(data):\n",
        "    dl = (data['dy_pr']==-1.9285278284819143)\n",
        "    loss=(data['loss']==0.9298048963072919)\n",
        "    part1=(data['exp']==1.1272967040973583)\n",
        "    part2=(data['tanh']==0.8417934192562146)\n",
        "    part3=(data['sigmoid']==0.5279179387419721)\n",
        "    assert(dl and loss and part1 and part2 and part3)\n",
        "    return True\n",
        "w=np.ones(9)*0.1\n",
        "d1=forward_propagation(X[0],y[0],w)\n",
        "grader_forwardprop(d1)"
      ],
      "execution_count": null,
      "outputs": [
        {
          "output_type": "execute_result",
          "data": {
            "text/plain": [
              "True"
            ]
          },
          "metadata": {
            "tags": []
          },
          "execution_count": 7
        }
      ]
    },
    {
      "cell_type": "markdown",
      "metadata": {
        "id": "obOaAqj3Sxvb"
      },
      "source": [
        "## <font color='blue'>Backward propagation</font>"
      ]
    },
    {
      "cell_type": "code",
      "metadata": {
        "id": "dS49ykcOGhIv"
      },
      "source": [
        "def backward_propagation(x,w,d1):\n",
        "    '''In this function, we will compute the backward propagation '''\n",
        "    # L: the loss we calculated for the current point\n",
        "    # dictionary: the outputs of the forward_propagation() function\n",
        "    # write code to compute the gradients of each weight [w1,w2,w3,...,w9]\n",
        "    # Hint: you can use dict type to store the required variables \n",
        "    # dw1 = # in dw1 compute derivative of L w.r.to w1\n",
        "    # dw2 = # in dw2 compute derivative of L w.r.to w2\n",
        "    # dw3 = # in dw3 compute derivative of L w.r.to w3\n",
        "    # dw4 = # in dw4 compute derivative of L w.r.to w4\n",
        "    # dw5 = # in dw5 compute derivative of L w.r.to w5\n",
        "    # dw6 = # in dw6 compute derivative of L w.r.to w6\n",
        "    # dw7 = # in dw7 compute derivative of L w.r.to w7\n",
        "    # dw8 = # in dw8 compute derivative of L w.r.to w8\n",
        "    # dw9 = # in dw9 compute derivative of L w.r.to w9\n",
        "    dw={}\n",
        "    dw[\"dw1\"]=d1[\"dy_pr\"]*(1-np.square(d1[\"tanh\"]))*d1[\"exp\"]*2*(w[0]*x[0]+w[1]*x[1])*x[0]\n",
        "    dw[\"dw2\"]=d1[\"dy_pr\"]*(1-np.square(d1[\"tanh\"]))*d1[\"exp\"]*2*(w[0]*x[0]+w[1]*x[1])*x[1]\n",
        "    dw[\"dw3\"]=d1[\"dy_pr\"]*d1[\"sigmoid\"]*(1-d1[\"sigmoid\"])*w[8]*(w[3]*x[3]+w[4]*x[4])*np.cos(w[2]*x[2])*x[2]\n",
        "    dw[\"dw4\"]=d1[\"dy_pr\"]*d1[\"sigmoid\"]*(1-d1[\"sigmoid\"])*w[8]*np.sin(w[2]*x[2])*x[3]\n",
        "    dw[\"dw5\"]=d1[\"dy_pr\"]*d1[\"sigmoid\"]*(1-d1[\"sigmoid\"])*w[8]*np.sin(w[2]*x[2])*x[4]\n",
        "    dw[\"dw6\"]=d1[\"dy_pr\"]*(1-np.square(d1[\"tanh\"]))*d1[\"exp\"]\n",
        "    dw[\"dw7\"]=d1[\"dy_pr\"]*(1-np.square(d1[\"tanh\"]))\n",
        "    dw[\"dw8\"]=d1[\"dy_pr\"]*d1[\"sigmoid\"]*(1-d1[\"sigmoid\"])*w[8]\n",
        "    dw[\"dw9\"]=d1[\"dy_pr\"]*d1[\"sigmoid\"]\n",
        "    return dw"
      ],
      "execution_count": null,
      "outputs": []
    },
    {
      "cell_type": "markdown",
      "metadata": {
        "id": "2NpZWAVlS4jb"
      },
      "source": [
        "<font color='cyan'>Grader function - 3 </font>"
      ]
    },
    {
      "cell_type": "code",
      "metadata": {
        "id": "1a8Kll2xGhMJ",
        "colab": {
          "base_uri": "https://localhost:8080/"
        },
        "outputId": "793d96d9-d7d5-43ae-f30e-11300296fb47"
      },
      "source": [
        "\n",
        "def grader_backprop(data):\n",
        "    dw1=(data['dw1']==-0.22973323498702)\n",
        "    dw2=(data['dw2']==-0.02140761471775293)\n",
        "    dw3=(data['dw3']==-0.00562540558026632)\n",
        "    dw4=(data['dw4']==-0.004657941222712424)\n",
        "    dw5=(data['dw5']==-0.0010077228498574248)\n",
        "    dw6=(data['dw6']==-0.6334751873437471)\n",
        "    dw7=(data['dw7']==-0.561941842854033)\n",
        "    dw8=(data['dw8']==-0.04806288407316517)\n",
        "    dw9=(data['dw9']==-1.0181044360187037)\n",
        "    assert(dw1 and dw2 and dw3 and dw4 and dw5 and dw6 and dw7 and dw8 and dw9)\n",
        "    return True \n",
        "w=np.ones(9)*0.1\n",
        "d1=forward_propagation(X[0],y[0],w)\n",
        "d1=backward_propagation(X[0],w,d1)\n",
        "grader_backprop(d1)"
      ],
      "execution_count": null,
      "outputs": [
        {
          "output_type": "execute_result",
          "data": {
            "text/plain": [
              "True"
            ]
          },
          "metadata": {
            "tags": []
          },
          "execution_count": 9
        }
      ]
    },
    {
      "cell_type": "markdown",
      "metadata": {
        "id": "1rfHHXZwgwo6"
      },
      "source": [
        "## <font color='blue'> Implement gradient checking</font>"
      ]
    },
    {
      "cell_type": "code",
      "metadata": {
        "id": "oh8wj1yjGhOi"
      },
      "source": [
        "W = np.random.normal(0,0.01,9)\n",
        "def gradient_checking(x,y, w):\n",
        "    # compute the L value using forward_propagation()\n",
        "    # compute the gradients of W using backword_propagation()\n",
        "    forward_dict=forward_propagation(x,y,w)\n",
        "    dW=backward_propagation(x,w,forward_dict)\n",
        "    gradients_check = []\n",
        "    for i in range(len(w)):\n",
        "        # add a small value to weight wi, and then find the values of L with the updated weights\n",
        "        # subtract a small value to weight wi, and then find the values of L with the updated weights\n",
        "        # compute the approximation gradients of weight wi\n",
        "        W_plus_esp=w.copy()\n",
        "        W_plus_esp[i]=W_plus_esp[i]+0.0001\n",
        "        loss_W_plus_esp=forward_propagation(x,y,W_plus_esp)[\"loss\"]\n",
        "        W_minus_esp=w.copy()\n",
        "        W_minus_esp[i]=W_minus_esp[i]-0.0001\n",
        "        loss_W_minus_esp=forward_propagation(x,y,W_minus_esp)[\"loss\"]\n",
        "        approx_gradients=(loss_W_plus_esp-loss_W_minus_esp)/0.0002 \n",
        "        dw=dW['dw{}'.format(i+1)]\n",
        "        gradients_check.append(abs(dw - approx_gradients) / (abs(dw) + abs(approx_gradients)))\n",
        "    return gradients_check\n",
        "\n",
        "gradient_check=gradient_checking(X[0],y[0], W)"
      ],
      "execution_count": null,
      "outputs": []
    },
    {
      "cell_type": "code",
      "metadata": {
        "colab": {
          "base_uri": "https://localhost:8080/"
        },
        "id": "AQ3jcjz-bpsn",
        "outputId": "3191a2a5-4d1a-4b0a-fe90-47920dadcec2"
      },
      "source": [
        "gradient_check"
      ],
      "execution_count": null,
      "outputs": [
        {
          "output_type": "execute_result",
          "data": {
            "text/plain": [
              "[7.68596082245069e-09,\n",
              " 1.669620255790362e-11,\n",
              " 1.8869177393551514e-08,\n",
              " 8.293042959414085e-08,\n",
              " 1.411696206777239e-07,\n",
              " 1.2330827677217992e-09,\n",
              " 2.6836184209111836e-09,\n",
              " 5.04968403958208e-10,\n",
              " 1.9568319201275282e-13]"
            ]
          },
          "metadata": {
            "tags": []
          },
          "execution_count": 11
        }
      ]
    },
    {
      "cell_type": "markdown",
      "metadata": {
        "id": "MhwDSe99kJ32"
      },
      "source": [
        "# <font color='red'>Task 2: Optimizers"
      ]
    },
    {
      "cell_type": "markdown",
      "metadata": {
        "id": "jJzI-vnPk1dB"
      },
      "source": [
        "###<font color='blue'>Algorithm with Vanilla update of weights</font>"
      ]
    },
    {
      "cell_type": "code",
      "metadata": {
        "colab": {
          "base_uri": "https://localhost:8080/"
        },
        "id": "uY6-ClViMVof",
        "outputId": "68f8b456-ce00-4413-899e-1f3005a6f06e"
      },
      "source": [
        "y.shape"
      ],
      "execution_count": null,
      "outputs": [
        {
          "output_type": "execute_result",
          "data": {
            "text/plain": [
              "(506,)"
            ]
          },
          "metadata": {
            "tags": []
          },
          "execution_count": 12
        }
      ]
    },
    {
      "cell_type": "code",
      "metadata": {
        "id": "xJspU6ZuGhRQ"
      },
      "source": [
        "W=np.random.normal(0,0.01,9)\n",
        "epochs=100\n",
        "learning_rate=0.0001\n",
        "vanila_loss=[]\n",
        "\n",
        "for epoch in range(epochs):\n",
        "  epoch_loss=[]\n",
        "  for i,row in enumerate(X):\n",
        "    forward_dict=forward_propagation(row,y[i],W)\n",
        "    dW=backward_propagation(row,W,forward_dict)\n",
        "\n",
        "    for j in range(len(W)):\n",
        "      W[j]=W[j]-learning_rate*dW['dw{}'.format(j+1)]\n",
        "    \n",
        "    epoch_loss.append(forward_dict[\"loss\"])\n",
        "  vanila_loss.append(np.mean(epoch_loss))\n",
        "  "
      ],
      "execution_count": null,
      "outputs": []
    },
    {
      "cell_type": "markdown",
      "metadata": {
        "id": "UlTLXrvmlR26"
      },
      "source": [
        "<font color='blue'>Plot between epochs and loss</font>"
      ]
    },
    {
      "cell_type": "code",
      "metadata": {
        "id": "CjTCVUIoGhTo",
        "colab": {
          "base_uri": "https://localhost:8080/",
          "height": 312
        },
        "outputId": "b8c34e0e-fee5-44d2-af82-4ac8c67bc674"
      },
      "source": [
        "epochs = range(1,101)\n",
        "plt.plot(epochs, vanila_loss, 'g')\n",
        "plt.title('Epoch vs Loss')\n",
        "plt.xlabel('Epochs')\n",
        "plt.ylabel('Loss')\n",
        "plt.legend()\n",
        "plt.show()"
      ],
      "execution_count": null,
      "outputs": [
        {
          "output_type": "stream",
          "text": [
            "No handles with labels found to put in legend.\n"
          ],
          "name": "stderr"
        },
        {
          "output_type": "display_data",
          "data": {
            "image/png": "[encoded data removed]",
            "text/plain": [
              "<Figure size 432x288 with 1 Axes>"
            ]
          },
          "metadata": {
            "tags": [],
            "needs_background": "light"
          }
        }
      ]
    },
    {
      "cell_type": "markdown",
      "metadata": {
        "id": "cv_hZFWalS2z"
      },
      "source": [
        "###<font color='blue'>Algorithm with Momentum update of weights</font>"
      ]
    },
    {
      "cell_type": "code",
      "metadata": {
        "id": "uucCdyQrGhZt"
      },
      "source": [
        "W=np.random.normal(0,0.01,9)\n",
        "epochs=100\n",
        "learning_rate=0.0001\n",
        "momentum_loss=[]\n",
        "gamma=0.9\n",
        "vt=np.zeros(9)\n",
        "\n",
        "for epoch in range(epochs):\n",
        "  epoch_loss=[]\n",
        "  for i,row in enumerate(X):\n",
        "    forward_dict=forward_propagation(row,y[i],W)\n",
        "    dW=backward_propagation(row,W,forward_dict)\n",
        "\n",
        "    for j in range(len(W)):\n",
        "      vt[j]=gamma*vt[j]+(1-gamma)*dW['dw{}'.format(j+1)]\n",
        "      W[j]=W[j]-learning_rate*vt[j]\n",
        "    \n",
        "    epoch_loss.append(forward_dict[\"loss\"])\n",
        "  momentum_loss.append(np.mean(epoch_loss))"
      ],
      "execution_count": null,
      "outputs": []
    },
    {
      "cell_type": "markdown",
      "metadata": {
        "id": "Ow20azfKlVhn"
      },
      "source": [
        "<font color='blue'>Plot between epochs and loss</font>"
      ]
    },
    {
      "cell_type": "code",
      "metadata": {
        "id": "u-m90Sq_Ghce",
        "colab": {
          "base_uri": "https://localhost:8080/",
          "height": 312
        },
        "outputId": "c32ecb4a-c78a-479b-f9f3-5ce5760a053a"
      },
      "source": [
        "epochs = range(1,101)\n",
        "plt.plot(epochs, momentum_loss, 'g')\n",
        "plt.title('Epoch vs Loss')\n",
        "plt.xlabel('Epochs')\n",
        "plt.ylabel('Loss')\n",
        "plt.legend()\n",
        "plt.show()"
      ],
      "execution_count": null,
      "outputs": [
        {
          "output_type": "stream",
          "text": [
            "No handles with labels found to put in legend.\n"
          ],
          "name": "stderr"
        },
        {
          "output_type": "display_data",
          "data": {
            "image/png": "[encoded data removed]",
            "text/plain": [
              "<Figure size 432x288 with 1 Axes>"
            ]
          },
          "metadata": {
            "tags": [],
            "needs_background": "light"
          }
        }
      ]
    },
    {
      "cell_type": "markdown",
      "metadata": {
        "id": "V4RWWrZ7lWap"
      },
      "source": [
        "###<font color='blue'>Algorithm with Adam update of weights</font>"
      ]
    },
    {
      "cell_type": "code",
      "metadata": {
        "id": "72rRC8rJGhf5"
      },
      "source": [
        "W=np.random.normal(0,0.01,9)\n",
        "epochs=100\n",
        "learning_rate=0.0001\n",
        "adam_loss=[]\n",
        "beta1=0.9\n",
        "beta2=0.99\n",
        "eps=0.000000001\n",
        "\n",
        "mt=np.zeros(9)\n",
        "mt_hat=np.zeros(9)\n",
        "\n",
        "vt=np.zeros(9)\n",
        "vt_hat=np.zeros(9)\n",
        "\n",
        "for epoch in range(epochs):\n",
        "  epoch_loss=[]\n",
        "  for i,row in enumerate(X):\n",
        "    forward_dict=forward_propagation(row,y[i],W)\n",
        "    dW=backward_propagation(row,W,forward_dict)\n",
        "\n",
        "    for j in range(len(W)):\n",
        "      mt[j]=beta1*mt[j]+(1-beta1)*dW['dw{}'.format(j+1)]\n",
        "      vt[j]=beta2*vt[j]+(1-beta2)*np.square(dW['dw{}'.format(j+1)])\n",
        "\n",
        "      mt_hat=mt/(1-np.power(beta1,i+1))\n",
        "      vt_hat=vt/(1-np.power(beta2,i+1))\n",
        "\n",
        "      W[j]=W[j]-learning_rate*(mt_hat[j]/(np.sqrt(vt_hat[j])+eps))\n",
        "    \n",
        "    epoch_loss.append(forward_dict[\"loss\"])\n",
        "  adam_loss.append(np.mean(epoch_loss))\n"
      ],
      "execution_count": null,
      "outputs": []
    },
    {
      "cell_type": "markdown",
      "metadata": {
        "id": "MMy0nBw-lXml"
      },
      "source": [
        "<font color='blue'>Plot between epochs and loss</font>"
      ]
    },
    {
      "cell_type": "code",
      "metadata": {
        "id": "aiFRk_uFlm2V",
        "colab": {
          "base_uri": "https://localhost:8080/",
          "height": 312
        },
        "outputId": "1b1f0566-a859-411a-db45-af7d639fdc83"
      },
      "source": [
        "epochs = range(1,101)\n",
        "plt.plot(epochs, adam_loss, 'g')\n",
        "plt.title('Epoch vs Loss')\n",
        "plt.xlabel('Epochs')\n",
        "plt.ylabel('Loss')\n",
        "plt.legend()\n",
        "plt.show()"
      ],
      "execution_count": null,
      "outputs": [
        {
          "output_type": "stream",
          "text": [
            "No handles with labels found to put in legend.\n"
          ],
          "name": "stderr"
        },
        {
          "output_type": "display_data",
          "data": {
            "image/png": "[encoded data removed]",
            "text/plain": [
              "<Figure size 432x288 with 1 Axes>"
            ]
          },
          "metadata": {
            "tags": [],
            "needs_background": "light"
          }
        }
      ]
    },
    {
      "cell_type": "markdown",
      "metadata": {
        "id": "7627cy8YlnYO"
      },
      "source": [
        "<font color='blue'>Comparision plot between epochs and loss with different optimizers</font>"
      ]
    },
    {
      "cell_type": "code",
      "metadata": {
        "id": "scleSfIXl_bC",
        "colab": {
          "base_uri": "https://localhost:8080/",
          "height": 312
        },
        "outputId": "15d56ed4-1289-4788-be70-af91d84cf635"
      },
      "source": [
        "epochs = range(1,101)\n",
        "plt.plot(epochs, adam_loss, 'g')\n",
        "plt.plot(epochs, vanila_loss, 'b')\n",
        "plt.plot(epochs, momentum_loss, 'r')\n",
        "plt.title('Epoch vs Loss')\n",
        "plt.xlabel('Epochs')\n",
        "plt.ylabel('Loss')\n",
        "plt.legend()\n",
        "plt.show()"
      ],
      "execution_count": null,
      "outputs": [
        {
          "output_type": "stream",
          "text": [
            "No handles with labels found to put in legend.\n"
          ],
          "name": "stderr"
        },
        {
          "output_type": "display_data",
          "data": {
            "image/png": "[encoded data removed]",
            "text/plain": [
              "<Figure size 432x288 with 1 Axes>"
            ]
          },
          "metadata": {
            "tags": [],
            "needs_background": "light"
          }
        }
      ]
    },
    {
      "cell_type": "code",
      "metadata": {
        "id": "lfXSaOP8rjBY"
      },
      "source": [
        ""
      ],
      "execution_count": null,
      "outputs": []
    }
  ]
}